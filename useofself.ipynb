{
  "nbformat": 4,
  "nbformat_minor": 0,
  "metadata": {
    "colab": {
      "name": "Untitled1.ipynb",
      "provenance": [],
      "authorship_tag": "ABX9TyMnHP1KYVJY8b8/4Vawuvhm",
      "include_colab_link": true
    },
    "kernelspec": {
      "name": "python3",
      "display_name": "Python 3"
    }
  },
  "cells": [
    {
      "cell_type": "markdown",
      "metadata": {
        "id": "view-in-github",
        "colab_type": "text"
      },
      "source": [
        "<a href=\"https://colab.research.google.com/github/TheNotoriousXxX/opencv/blob/master/useofself.ipynb\" target=\"_parent\"><img src=\"https://colab.research.google.com/assets/colab-badge.svg\" alt=\"Open In Colab\"/></a>"
      ]
    },
    {
      "cell_type": "code",
      "metadata": {
        "id": "dGeQLDsn6P36",
        "colab_type": "code",
        "colab": {}
      },
      "source": [
        "class Shubs:\n",
        "  Y=10\n",
        "  Zee=\"yooo\"\n",
        "  def __init__(self,name):\n",
        "    self.name=name\n",
        "  def haha(self):\n",
        "    print(self.name)\n",
        "    X=12+self.Y\n",
        "    print(X)\n",
        "    print(self.Zee)\n",
        "    "
      ],
      "execution_count": 25,
      "outputs": []
    },
    {
      "cell_type": "code",
      "metadata": {
        "id": "UDcWbnefRylE",
        "colab_type": "code",
        "colab": {}
      },
      "source": [
        "f=Shubs(\"ahahahhah\")"
      ],
      "execution_count": 26,
      "outputs": []
    },
    {
      "cell_type": "code",
      "metadata": {
        "id": "iDI0lvc1SJ1_",
        "colab_type": "code",
        "colab": {
          "base_uri": "https://localhost:8080/",
          "height": 68
        },
        "outputId": "f4ded117-aa9e-488f-99ba-183038f24140"
      },
      "source": [
        "f.haha()"
      ],
      "execution_count": 27,
      "outputs": [
        {
          "output_type": "stream",
          "text": [
            "ahahahhah\n",
            "22\n",
            "yooo\n"
          ],
          "name": "stdout"
        }
      ]
    }
  ]
}