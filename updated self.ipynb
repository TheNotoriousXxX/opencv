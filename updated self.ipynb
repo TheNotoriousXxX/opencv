{
  "nbformat": 4,
  "nbformat_minor": 0,
  "metadata": {
    "colab": {
      "name": "Untitled1.ipynb",
      "provenance": [],
      "collapsed_sections": [],
      "authorship_tag": "ABX9TyOCgzD6ioMC6zIJZiy82cyU",
      "include_colab_link": true
    },
    "kernelspec": {
      "name": "python3",
      "display_name": "Python 3"
    }
  },
  "cells": [
    {
      "cell_type": "markdown",
      "metadata": {
        "id": "view-in-github",
        "colab_type": "text"
      },
      "source": [
        "<a href=\"https://colab.research.google.com/github/TheNotoriousXxX/opencv/blob/master/updated%20self.ipynb\" target=\"_parent\"><img src=\"https://colab.research.google.com/assets/colab-badge.svg\" alt=\"Open In Colab\"/></a>"
      ]
    },
    {
      "cell_type": "code",
      "metadata": {
        "id": "dGeQLDsn6P36",
        "colab_type": "code",
        "colab": {}
      },
      "source": [
        "class Shubs:\n",
        "  Y=10\n",
        "  Zee=\"yooo\"\n",
        "  def __init__(self,name):\n",
        "    self.name=name\n",
        "\n",
        "  \n",
        "\n",
        "  def haha(self):\n",
        "    print(self.name)\n",
        "    X=12+self.Y\n",
        "    print(X)\n",
        "    print(self.Zee)\n",
        "    \n",
        "\n",
        "Zee=\"tatatta\"\n",
        "wow=\"gogogo\""
      ],
      "execution_count": 55,
      "outputs": []
    },
    {
      "cell_type": "code",
      "metadata": {
        "id": "UDcWbnefRylE",
        "colab_type": "code",
        "colab": {}
      },
      "source": [
        "f=Shubs(\"ahahahhah\")"
      ],
      "execution_count": 56,
      "outputs": []
    },
    {
      "cell_type": "code",
      "metadata": {
        "id": "iDI0lvc1SJ1_",
        "colab_type": "code",
        "colab": {
          "base_uri": "https://localhost:8080/",
          "height": 102
        },
        "outputId": "738b7ca5-0668-497c-eab3-febd432b110d"
      },
      "source": [
        "f.haha()\n",
        "print(Zee)\n",
        "print(wow)"
      ],
      "execution_count": 57,
      "outputs": [
        {
          "output_type": "stream",
          "text": [
            "ahahahhah\n",
            "22\n",
            "yooo\n",
            "tatatta\n",
            "gogogo\n"
          ],
          "name": "stdout"
        }
      ]
    }
  ]
}